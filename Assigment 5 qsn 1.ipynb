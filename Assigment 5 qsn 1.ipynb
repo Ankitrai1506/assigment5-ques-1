{
 "cells": [
  {
   "cell_type": "raw",
   "id": "c4efcaa2",
   "metadata": {},
   "source": [
    "##Problem statement: Implement a class Point that has three properties and a method. All these attributes (properties and methods) should be public. This problem can be broken down into two tasks:\n",
    "\n",
    "Task 1: 👉 Implement a constructor to initialize the values of three properties: x, y, and z.\n",
    "\n",
    "Task 2: 👉 Implement a method, sqSum(), in the Point class which squares x, y, and z and returns their sum.\n",
    "\n",
    "Sample properties 1, 3, 5\n",
    "\n",
    "Sample method output 35"
   ]
  },
  {
   "cell_type": "code",
   "execution_count": 16,
   "id": "2b264e30",
   "metadata": {},
   "outputs": [
    {
     "name": "stdout",
     "output_type": "stream",
     "text": [
      "Enter the value of x 3\n",
      "Enter the value of y4\n",
      "Enter the value of z 5\n",
      "Squared sum of x, y, and z: 50\n"
     ]
    }
   ],
   "source": [
    "class Point:\n",
    "    def __init__(self, x, y, z):\n",
    "        self.x = x\n",
    "        self.y = y\n",
    "        self.z = z\n",
    "\n",
    "    def sqSum(self):\n",
    "        return self.x**2 + self.y**2 + self.z**2\n",
    "x=int(input(\"Enter the value of x \"))\n",
    "y=int(input(\"Enter the value of y\"))\n",
    "z=int(input(\"Enter the value of z \"))\n",
    "point = Point(x,y,z)\n",
    "\n",
    "result = point.sqSum()\n",
    "\n",
    "print(\"Squared sum of x, y, and z:\", result)"
   ]
  },
  {
   "cell_type": "code",
   "execution_count": null,
   "id": "ac0bdb44",
   "metadata": {},
   "outputs": [],
   "source": []
  }
 ],
 "metadata": {
  "kernelspec": {
   "display_name": "Python 3 (ipykernel)",
   "language": "python",
   "name": "python3"
  },
  "language_info": {
   "codemirror_mode": {
    "name": "ipython",
    "version": 3
   },
   "file_extension": ".py",
   "mimetype": "text/x-python",
   "name": "python",
   "nbconvert_exporter": "python",
   "pygments_lexer": "ipython3",
   "version": "3.10.9"
  }
 },
 "nbformat": 4,
 "nbformat_minor": 5
}
